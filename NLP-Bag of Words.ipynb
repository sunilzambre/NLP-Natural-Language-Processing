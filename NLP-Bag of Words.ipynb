{
 "cells": [
  {
   "cell_type": "code",
   "execution_count": 1,
   "id": "12927cf8",
   "metadata": {},
   "outputs": [],
   "source": [
    "import nltk"
   ]
  },
  {
   "cell_type": "code",
   "execution_count": 2,
   "id": "08cd8428",
   "metadata": {},
   "outputs": [],
   "source": [
    "paragraph = \"\"\"Dr. APJ Abdul Kalam, often referred to as the \"Missile Man of India,\" was a prominent Indian scientist and the 11th President of India. \n",
    "He was born on October 15, 1931, in Rameswaram, Tamil Nadu, India. \n",
    "Kalam had humble beginnings and came from a modest family.\n",
    "He faced several challenges during his childhood but had a strong desire for learning and excelled in academics. \n",
    "After completing his school education, he pursued a degree in aeronautical engineering from Madras Institute of Technology.\n",
    "Dr. Kalam joined the Defense Research and Development Organization (DRDO) in 1958, where he played a significant role in India's missile development program. \n",
    "He made substantial contributions to the successful development of India's first indigenous satellite launch vehicle and the nuclear-capable ballistic missile, Agni.\n",
    "During his illustrious career, Kalam held various prominent positions, including the Scientific Adviser to the Defense Minister and Secretary of the DRDO. \n",
    "He was widely respected for his scientific acumen, technical expertise, and leadership qualities.\n",
    "In 2002, Dr. Abdul Kalam was elected as the President of India, serving in that role until 2007. \n",
    "As President, he focused on promoting education, innovation, and social development.\n",
    "He often interacted with students and encouraged them to dream big and work towards achieving their goals. His humility, simplicity, and dedication made him immensely popular among the masses.\n",
    "After his presidential term, Dr. Kalam continued to be actively involved in educational initiatives and served as a visiting professor at various esteemed institutions. He authored several books, including \"Wings of Fire\" and \"Ignited Minds,\" which inspired millions of young minds across the globe.\n",
    "Dr. APJ Abdul Kalam received numerous awards and honors for his contributions to science, technology, and nation-building. \n",
    "He was awarded the Bharat Ratna, India's highest civilian honor, in 1997.\n",
    "Sadly, Dr. Kalam passed away on July 27, 2015, while delivering a lecture at the Indian Institute of Management Shillong.\n",
    "His untimely demise left a significant void in the scientific and political landscape of India. However, his legacy as a visionary, a teacher, and a leader continues to inspire countless individuals to strive for excellence and contribute to the progress of the nation.\n",
    "\"\"\""
   ]
  },
  {
   "cell_type": "code",
   "execution_count": 3,
   "id": "28aaf8d4",
   "metadata": {},
   "outputs": [],
   "source": [
    "# Cleaning the texts\n",
    "import re\n",
    "from nltk.corpus import stopwords\n",
    "from nltk.stem.porter import PorterStemmer\n",
    "from nltk.stem import WordNetLemmatizer"
   ]
  },
  {
   "cell_type": "code",
   "execution_count": 4,
   "id": "fcc781ea",
   "metadata": {},
   "outputs": [],
   "source": [
    "ps = PorterStemmer()\n",
    "wordnet=WordNetLemmatizer()\n",
    "sentences = nltk.sent_tokenize(paragraph)\n",
    "corpus = []\n",
    "for i in range(len(sentences)):\n",
    "    review = re.sub('[^a-zA-Z]', ' ', sentences[i])\n",
    "    review = review.lower()\n",
    "    review = review.split()\n",
    "    review = [ps.stem(word) for word in review if not word in set(stopwords.words('english'))]\n",
    "    review = ' '.join(review)\n",
    "    corpus.append(review)"
   ]
  },
  {
   "cell_type": "code",
   "execution_count": 5,
   "id": "59eda349",
   "metadata": {},
   "outputs": [],
   "source": [
    "# Creating the Bag of Words model\n",
    "from sklearn.feature_extraction.text import CountVectorizer\n",
    "cv = CountVectorizer(max_features = 1500)\n",
    "X = cv.fit_transform(corpus).toarray()"
   ]
  },
  {
   "cell_type": "code",
   "execution_count": 6,
   "id": "19315329",
   "metadata": {},
   "outputs": [
    {
     "name": "stdout",
     "output_type": "stream",
     "text": [
      "[[1 0 0 ... 0 0 0]\n",
      " [0 0 0 ... 0 0 0]\n",
      " [0 0 0 ... 0 0 0]\n",
      " ...\n",
      " [0 0 0 ... 0 0 0]\n",
      " [0 0 0 ... 0 0 0]\n",
      " [0 0 0 ... 0 0 0]]\n"
     ]
    }
   ],
   "source": [
    "print(X)"
   ]
  },
  {
   "cell_type": "code",
   "execution_count": 8,
   "id": "9ce3e2a3",
   "metadata": {},
   "outputs": [],
   "source": [
    "import nltk\n",
    "from nltk.corpus import stopwords\n",
    "from nltk.stem import PorterStemmer\n",
    "from sklearn.feature_extraction.text import CountVectorizer\n",
    "import warnings\n",
    "\n",
    "# Suppress all warnings\n",
    "warnings.filterwarnings(\"ignore\")\n",
    "\n",
    "# Text corpus\n",
    "corpus = [\n",
    "    \"I love coding in Python\",\n",
    "    \"Python is a powerful programming language\",\n",
    "    \"Machine learning is an exciting field\",\n",
    "    \"I enjoy working with data\"\n",
    "]"
   ]
  },
  {
   "cell_type": "code",
   "execution_count": 9,
   "id": "bf83f0ee",
   "metadata": {},
   "outputs": [],
   "source": [
    "# Initialize the stemmer and vectorizer\n",
    "stemmer = PorterStemmer()\n",
    "vectorizer = CountVectorizer()"
   ]
  },
  {
   "cell_type": "code",
   "execution_count": 10,
   "id": "e7bd932a",
   "metadata": {},
   "outputs": [],
   "source": [
    "# Perform text preprocessing\n",
    "processed_corpus = []\n",
    "for sentence in corpus:\n",
    "    # Convert to lowercase\n",
    "    sentence = sentence.lower()\n",
    "    # Tokenize the sentence into words\n",
    "    words = nltk.word_tokenize(sentence)\n",
    "    # Remove stopwords and perform stemming\n",
    "    processed_words = [stemmer.stem(word) for word in words if word not in set(stopwords.words('english'))]\n",
    "    # Rejoin the processed words into a sentence\n",
    "    processed_sentence = ' '.join(processed_words)\n",
    "    # Add the processed sentence to the processed corpus\n",
    "    processed_corpus.append(processed_sentence)"
   ]
  },
  {
   "cell_type": "code",
   "execution_count": 11,
   "id": "f470726b",
   "metadata": {},
   "outputs": [],
   "source": [
    "# Create the Bag of Words model\n",
    "with warnings.catch_warnings():\n",
    "    warnings.simplefilter(\"ignore\")\n",
    "    bag_of_words = vectorizer.fit_transform(processed_corpus).toarray()\n",
    "\n",
    "# Get the feature names (unique words)\n",
    "feature_names = vectorizer.get_feature_names()"
   ]
  },
  {
   "cell_type": "code",
   "execution_count": 12,
   "id": "cad4ec29",
   "metadata": {},
   "outputs": [
    {
     "name": "stdout",
     "output_type": "stream",
     "text": [
      "Sentence 1: love code python\n",
      "code: 1\n",
      "data: 0\n",
      "enjoy: 0\n",
      "excit: 0\n",
      "field: 0\n",
      "languag: 0\n",
      "learn: 0\n",
      "love: 1\n",
      "machin: 0\n",
      "power: 0\n",
      "program: 0\n",
      "python: 1\n",
      "work: 0\n",
      "\n",
      "Sentence 2: python power program languag\n",
      "code: 0\n",
      "data: 0\n",
      "enjoy: 0\n",
      "excit: 0\n",
      "field: 0\n",
      "languag: 1\n",
      "learn: 0\n",
      "love: 0\n",
      "machin: 0\n",
      "power: 1\n",
      "program: 1\n",
      "python: 1\n",
      "work: 0\n",
      "\n",
      "Sentence 3: machin learn excit field\n",
      "code: 0\n",
      "data: 0\n",
      "enjoy: 0\n",
      "excit: 1\n",
      "field: 1\n",
      "languag: 0\n",
      "learn: 1\n",
      "love: 0\n",
      "machin: 1\n",
      "power: 0\n",
      "program: 0\n",
      "python: 0\n",
      "work: 0\n",
      "\n",
      "Sentence 4: enjoy work data\n",
      "code: 0\n",
      "data: 1\n",
      "enjoy: 1\n",
      "excit: 0\n",
      "field: 0\n",
      "languag: 0\n",
      "learn: 0\n",
      "love: 0\n",
      "machin: 0\n",
      "power: 0\n",
      "program: 0\n",
      "python: 0\n",
      "work: 1\n",
      "\n"
     ]
    }
   ],
   "source": [
    "# Print the Bag of Words model\n",
    "for i, sentence in enumerate(processed_corpus):\n",
    "    print(f\"Sentence {i+1}: {sentence}\")\n",
    "    for j, word in enumerate(feature_names):\n",
    "        print(f\"{word}: {bag_of_words[i][j]}\")\n",
    "    print()"
   ]
  }
 ],
 "metadata": {
  "kernelspec": {
   "display_name": "Python 3 (ipykernel)",
   "language": "python",
   "name": "python3"
  },
  "language_info": {
   "codemirror_mode": {
    "name": "ipython",
    "version": 3
   },
   "file_extension": ".py",
   "mimetype": "text/x-python",
   "name": "python",
   "nbconvert_exporter": "python",
   "pygments_lexer": "ipython3",
   "version": "3.9.12"
  }
 },
 "nbformat": 4,
 "nbformat_minor": 5
}
